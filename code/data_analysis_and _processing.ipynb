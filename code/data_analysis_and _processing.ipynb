{
 "cells": [
  {
   "cell_type": "code",
   "execution_count": 1,
   "metadata": {},
   "outputs": [
    {
     "name": "stdout",
     "output_type": "stream",
     "text": [
      "data_analysis_and _processing.ipynb\n"
     ]
    }
   ],
   "source": [
    "!ls"
   ]
  },
  {
   "cell_type": "markdown",
   "metadata": {},
   "source": [
    "# Checkpoint Champion -- Predicting Winners at 25\n",
    "\n",
    "**Name(s)**: Xingzhi Cui, Yun Jong Na\n",
    "\n",
    "**Website Link**: https://mrtuge123.github.io/League_of_Legends_Analysis/"
   ]
  },
  {
   "cell_type": "markdown",
   "metadata": {},
   "source": [
    "## Step One: Introduction"
   ]
  },
  {
   "cell_type": "code",
   "execution_count": 2,
   "metadata": {
    "ExecuteTime": {
     "end_time": "2019-10-31T23:36:28.652554Z",
     "start_time": "2019-10-31T23:36:27.180520Z"
    }
   },
   "outputs": [],
   "source": [
    "# Loading Packages\n",
    "import pandas as pd\n",
    "import numpy as np\n",
    "import plotly.express as px\n",
    "import matplotlib.pyplot as plt\n",
    "import seaborn as sns\n",
    "from sklearn.linear_model import LogisticRegression\n",
    "from sklearn.neighbors import KNeighborsClassifier\n",
    "from sklearn.linear_model import LogisticRegressionCV\n",
    "from sklearn.preprocessing import StandardScaler\n",
    "from sklearn.decomposition import PCA\n",
    "from matplotlib.colors import ListedColormap\n",
    "from sklearn.feature_selection import RFECV\n",
    "from sklearn.feature_selection import SequentialFeatureSelector\n",
    "from sklearn.model_selection import train_test_split\n",
    "from sklearn.model_selection import cross_val_score\n",
    "from sklearn.linear_model import LassoCV\n",
    "from sklearn.pipeline import make_pipeline\n",
    "from sklearn.metrics import mean_squared_error\n",
    "from sklearn.metrics import accuracy_score\n",
    "from sklearn.metrics import accuracy_score, roc_auc_score, confusion_matrix\n",
    "from sklearn.compose import ColumnTransformer\n",
    "from sklearn.preprocessing import StandardScaler, OneHotEncoder\n",
    "pd.options.plotting.backend = 'plotly'"
   ]
  },
  {
   "cell_type": "code",
   "execution_count": 3,
   "metadata": {},
   "outputs": [],
   "source": [
    "# Reading Data\n",
    "dfs = []\n",
    "\n",
    "file_path = f\"/Users/tiger.c/Desktop/EECS398/wn25/League_of_Legends_Analysis/data/lol_2024.csv\"\n",
    "df = pd.read_csv(file_path, low_memory=False)\n",
    "dfs.append(df)\n",
    "\n",
    "data = pd.concat(dfs, ignore_index=True)\n"
   ]
  },
  {
   "cell_type": "code",
   "execution_count": 4,
   "metadata": {},
   "outputs": [
    {
     "name": "stdout",
     "output_type": "stream",
     "text": [
      "There are 117600 rows and  161 columns present in the data.\n"
     ]
    }
   ],
   "source": [
    "# Displaying Original Data Info\n",
    "print(\"There are\", df.shape[0], \"rows and \", df.shape[1], \"columns present in the data.\")\n"
   ]
  },
  {
   "cell_type": "code",
   "execution_count": 5,
   "metadata": {},
   "outputs": [
    {
     "data": {
      "text/plain": [
       "9800"
      ]
     },
     "execution_count": 5,
     "metadata": {},
     "output_type": "execute_result"
    }
   ],
   "source": [
    "# Number of Games Recorded\n",
    "df['gameid'].nunique()"
   ]
  },
  {
   "cell_type": "code",
   "execution_count": 6,
   "metadata": {},
   "outputs": [],
   "source": [
    "#Filter out team data\n",
    "data = data[data['position'] == 'team']"
   ]
  },
  {
   "cell_type": "code",
   "execution_count": 7,
   "metadata": {
    "scrolled": true
   },
   "outputs": [
    {
     "data": {
      "text/plain": [
       "['gameid',\n",
       " 'datacompleteness',\n",
       " 'url',\n",
       " 'league',\n",
       " 'year',\n",
       " 'split',\n",
       " 'playoffs',\n",
       " 'date',\n",
       " 'game',\n",
       " 'patch',\n",
       " 'participantid',\n",
       " 'side',\n",
       " 'position',\n",
       " 'playername',\n",
       " 'playerid',\n",
       " 'teamname',\n",
       " 'teamid',\n",
       " 'champion',\n",
       " 'ban1',\n",
       " 'ban2',\n",
       " 'ban3',\n",
       " 'ban4',\n",
       " 'ban5',\n",
       " 'pick1',\n",
       " 'pick2',\n",
       " 'pick3',\n",
       " 'pick4',\n",
       " 'pick5',\n",
       " 'gamelength',\n",
       " 'result',\n",
       " 'kills',\n",
       " 'deaths',\n",
       " 'assists',\n",
       " 'teamkills',\n",
       " 'teamdeaths',\n",
       " 'doublekills',\n",
       " 'triplekills',\n",
       " 'quadrakills',\n",
       " 'pentakills',\n",
       " 'firstblood',\n",
       " 'firstbloodkill',\n",
       " 'firstbloodassist',\n",
       " 'firstbloodvictim',\n",
       " 'team kpm',\n",
       " 'ckpm',\n",
       " 'firstdragon',\n",
       " 'dragons',\n",
       " 'opp_dragons',\n",
       " 'elementaldrakes',\n",
       " 'opp_elementaldrakes',\n",
       " 'infernals',\n",
       " 'mountains',\n",
       " 'clouds',\n",
       " 'oceans',\n",
       " 'chemtechs',\n",
       " 'hextechs',\n",
       " 'dragons (type unknown)',\n",
       " 'elders',\n",
       " 'opp_elders',\n",
       " 'firstherald',\n",
       " 'heralds',\n",
       " 'opp_heralds',\n",
       " 'void_grubs',\n",
       " 'opp_void_grubs',\n",
       " 'firstbaron',\n",
       " 'barons',\n",
       " 'opp_barons',\n",
       " 'firsttower',\n",
       " 'towers',\n",
       " 'opp_towers',\n",
       " 'firstmidtower',\n",
       " 'firsttothreetowers',\n",
       " 'turretplates',\n",
       " 'opp_turretplates',\n",
       " 'inhibitors',\n",
       " 'opp_inhibitors',\n",
       " 'damagetochampions',\n",
       " 'dpm',\n",
       " 'damageshare',\n",
       " 'damagetakenperminute',\n",
       " 'damagemitigatedperminute',\n",
       " 'wardsplaced',\n",
       " 'wpm',\n",
       " 'wardskilled',\n",
       " 'wcpm',\n",
       " 'controlwardsbought',\n",
       " 'visionscore',\n",
       " 'vspm',\n",
       " 'totalgold',\n",
       " 'earnedgold',\n",
       " 'earned gpm',\n",
       " 'earnedgoldshare',\n",
       " 'goldspent',\n",
       " 'gspd',\n",
       " 'gpr',\n",
       " 'total cs',\n",
       " 'minionkills',\n",
       " 'monsterkills',\n",
       " 'monsterkillsownjungle',\n",
       " 'monsterkillsenemyjungle',\n",
       " 'cspm',\n",
       " 'goldat10',\n",
       " 'xpat10',\n",
       " 'csat10',\n",
       " 'opp_goldat10',\n",
       " 'opp_xpat10',\n",
       " 'opp_csat10',\n",
       " 'golddiffat10',\n",
       " 'xpdiffat10',\n",
       " 'csdiffat10',\n",
       " 'killsat10',\n",
       " 'assistsat10',\n",
       " 'deathsat10',\n",
       " 'opp_killsat10',\n",
       " 'opp_assistsat10',\n",
       " 'opp_deathsat10',\n",
       " 'goldat15',\n",
       " 'xpat15',\n",
       " 'csat15',\n",
       " 'opp_goldat15',\n",
       " 'opp_xpat15',\n",
       " 'opp_csat15',\n",
       " 'golddiffat15',\n",
       " 'xpdiffat15',\n",
       " 'csdiffat15',\n",
       " 'killsat15',\n",
       " 'assistsat15',\n",
       " 'deathsat15',\n",
       " 'opp_killsat15',\n",
       " 'opp_assistsat15',\n",
       " 'opp_deathsat15',\n",
       " 'goldat20',\n",
       " 'xpat20',\n",
       " 'csat20',\n",
       " 'opp_goldat20',\n",
       " 'opp_xpat20',\n",
       " 'opp_csat20',\n",
       " 'golddiffat20',\n",
       " 'xpdiffat20',\n",
       " 'csdiffat20',\n",
       " 'killsat20',\n",
       " 'assistsat20',\n",
       " 'deathsat20',\n",
       " 'opp_killsat20',\n",
       " 'opp_assistsat20',\n",
       " 'opp_deathsat20',\n",
       " 'goldat25',\n",
       " 'xpat25',\n",
       " 'csat25',\n",
       " 'opp_goldat25',\n",
       " 'opp_xpat25',\n",
       " 'opp_csat25',\n",
       " 'golddiffat25',\n",
       " 'xpdiffat25',\n",
       " 'csdiffat25',\n",
       " 'killsat25',\n",
       " 'assistsat25',\n",
       " 'deathsat25',\n",
       " 'opp_killsat25',\n",
       " 'opp_assistsat25',\n",
       " 'opp_deathsat25']"
      ]
     },
     "execution_count": 7,
     "metadata": {},
     "output_type": "execute_result"
    }
   ],
   "source": [
    "#Columns in Data\n",
    "columns = [x for x in data.columns]\n",
    "columns"
   ]
  },
  {
   "cell_type": "code",
   "execution_count": 8,
   "metadata": {},
   "outputs": [
    {
     "name": "stdout",
     "output_type": "stream",
     "text": [
      "There are 19600 rows and  161 columns present in the data.\n"
     ]
    }
   ],
   "source": [
    "print(\"There are\", data.shape[0], \"rows and \", data.shape[1], \"columns present in the data.\")"
   ]
  },
  {
   "cell_type": "markdown",
   "metadata": {},
   "source": [
    "## Step 2: Data Cleaning and Analysis"
   ]
  },
  {
   "cell_type": "code",
   "execution_count": 9,
   "metadata": {},
   "outputs": [],
   "source": [
    "# Columns we selected relevant to 25 minute checkpoint, uncleaned\n",
    "columns_to_check = [\n",
    "    'goldat25', 'xpat25', 'csat25', 'opp_goldat25', 'opp_xpat25', 'opp_csat25',\n",
    "    'golddiffat25', 'xpdiffat25', 'csdiffat25',\n",
    "    'killsat25', 'assistsat25', 'deathsat25',\n",
    "    'opp_killsat25', 'opp_assistsat25', 'opp_deathsat25'\n",
    "]"
   ]
  },
  {
   "cell_type": "code",
   "execution_count": 10,
   "metadata": {},
   "outputs": [
    {
     "data": {
      "text/plain": [
       "goldat25           0.20102\n",
       "xpat25             0.20102\n",
       "csat25             0.20102\n",
       "opp_goldat25       0.20102\n",
       "opp_xpat25         0.20102\n",
       "opp_csat25         0.20102\n",
       "golddiffat25       0.20102\n",
       "xpdiffat25         0.20102\n",
       "csdiffat25         0.20102\n",
       "killsat25          0.20102\n",
       "assistsat25        0.20102\n",
       "deathsat25         0.20102\n",
       "opp_killsat25      0.20102\n",
       "opp_assistsat25    0.20102\n",
       "opp_deathsat25     0.20102\n",
       "dtype: float64"
      ]
     },
     "execution_count": 10,
     "metadata": {},
     "output_type": "execute_result"
    }
   ],
   "source": [
    "# This showed that if one of the values is missing in the 25 minute checkpoint,\n",
    "# all the other values are missing as well\n",
    "data[columns_to_check].isna().mean()"
   ]
  },
  {
   "cell_type": "code",
   "execution_count": 11,
   "metadata": {},
   "outputs": [],
   "source": [
    "# Data Cleaning. Because we need all these variables, and datapoints that \n",
    "# don't have one of these variables are likely to have missed all of them,\n",
    "# we therefore simply dropped all the rows with missing values.\n",
    "columns_to_check = [\n",
    "    'goldat25', 'xpat25', 'csat25', 'opp_goldat25', 'opp_xpat25', 'opp_csat25',\n",
    "    'golddiffat25', 'xpdiffat25', 'csdiffat25',\n",
    "    'killsat25', 'assistsat25', 'deathsat25',\n",
    "    'opp_killsat25', 'opp_assistsat25', 'opp_deathsat25'\n",
    "]\n",
    "\n",
    "data = data.dropna(subset=columns_to_check)"
   ]
  },
  {
   "cell_type": "code",
   "execution_count": 12,
   "metadata": {},
   "outputs": [
    {
     "data": {
      "text/plain": [
       "15660"
      ]
     },
     "execution_count": 12,
     "metadata": {},
     "output_type": "execute_result"
    }
   ],
   "source": [
    "# Number of rows the data now has\n",
    "data.shape[0]"
   ]
  },
  {
   "cell_type": "markdown",
   "metadata": {},
   "source": [
    "# TODO: Univariate and Bivariate plots (kevin)"
   ]
  },
  {
   "cell_type": "code",
   "execution_count": null,
   "metadata": {},
   "outputs": [],
   "source": [
    "univariate_plot = px.histogram(data, x='golddiffat25', nbins=50, title='Distribution of Gold Difference at 25 Minutes')\n",
    "univariate_plot.show()"
   ]
  },
  {
   "cell_type": "code",
   "execution_count": null,
   "metadata": {},
   "outputs": [],
   "source": [
    "bivariate_plot = px.box(data, x='result', y='golddiffat25', title='Gold Difference by Match Outcome')\n",
    "bivariate_plot.show()"
   ]
  },
  {
   "cell_type": "code",
   "execution_count": null,
   "metadata": {},
   "outputs": [],
   "source": [
    "summary = data.groupby('result')[[\n",
    "    'goldat25', 'xpat25', 'csat25', 'killsat25', 'deathsat25'\n",
    "]].mean().round(2).reset_index()\n",
    "\n",
    "aggregate_table = go.Figure(data=[go.Table(\n",
    "    header=dict(\n",
    "        values=list(summary.columns),\n",
    "        fill_color='lightblue',\n",
    "        align='center',\n",
    "        font=dict(color='black', size=14)\n",
    "    ),\n",
    "    cells=dict(\n",
    "        values=[summary[col] for col in summary.columns],\n",
    "        fill_color='lavender',\n",
    "        align='center',\n",
    "        font=dict(color='black', size=12)\n",
    "    ))\n",
    "])\n",
    "aggregate_table.show()"
   ]
  },
  {
   "cell_type": "markdown",
   "metadata": {},
   "source": [
    "## Step 3: Baseline Model Construction"
   ]
  },
  {
   "cell_type": "code",
   "execution_count": 13,
   "metadata": {},
   "outputs": [],
   "source": [
    "# Columns for Baseline Model\n",
    "columns_to_check = [\n",
    "    'goldat25', 'xpat25', 'csat25', 'killsat25','deathsat25'\n",
    "]\n"
   ]
  },
  {
   "cell_type": "code",
   "execution_count": 14,
   "metadata": {},
   "outputs": [],
   "source": [
    "# Splitting into training and testing sets:\n",
    "cols = ['gameid']+['result'] + columns_to_check\n",
    "mod_data = data.copy()\n",
    "data_part1 = mod_data[cols]\n",
    "y = data_part1['result']\n",
    "X = data_part1[columns_to_check]\n",
    "X_train, X_test, y_train, y_test = train_test_split(X,y,test_size = 0.3,random_state=103) \n"
   ]
  },
  {
   "cell_type": "code",
   "execution_count": 15,
   "metadata": {
    "scrolled": true
   },
   "outputs": [
    {
     "data": {
      "image/png": "[encoded data removed]",
      "text/plain": [
       "<Figure size 640x480 with 2 Axes>"
      ]
     },
     "metadata": {},
     "output_type": "display_data"
    }
   ],
   "source": [
    "# Show that the data still has lingering multicorrelations\n",
    "corr_matrix = X.corr()\n",
    "\n",
    "# Visualize the correlation matrix\n",
    "sns.heatmap(corr_matrix, annot=True, fmt=\".2f\", cmap=\"coolwarm\")\n",
    "plt.title('Correlation Heatmap', fontsize=16)\n",
    "plt.tight_layout()\n",
    "plt.show()"
   ]
  },
  {
   "cell_type": "code",
   "execution_count": 16,
   "metadata": {
    "scrolled": true
   },
   "outputs": [
    {
     "name": "stdout",
     "output_type": "stream",
     "text": [
      "| Model Name                          |   num_non_zero |   training_accuracy |   testing_accuracy |   ROC_accuracy |\n",
      "|:------------------------------------|---------------:|--------------------:|-------------------:|---------------:|\n",
      "| Baseline_Simple_Logistic_Regression |              5 |            0.809433 |           0.812473 |       0.897624 |\n"
     ]
    }
   ],
   "source": [
    "#Baseline model, simple logistic regression\n",
    "pipeline = make_pipeline(\n",
    "    StandardScaler(),\n",
    "    LogisticRegression(random_state=398, solver='liblinear') \n",
    ")\n",
    "\n",
    "pipeline.fit(X_train, y_train)\n",
    "\n",
    "y_pred = pipeline.predict(X_test)\n",
    "testing_accuracy = accuracy_score(y_test, y_pred)\n",
    "\n",
    "log_reg_cv = pipeline.named_steps['logisticregression']\n",
    "num_non_zero = np.count_nonzero(log_reg_cv.coef_[0])\n",
    "roc_auc = roc_auc_score(y_test, pipeline.decision_function(X_test))\n",
    "\n",
    "y_train_pred = pipeline.predict(X_train)\n",
    "training_accuracy = accuracy_score(y_train, y_train_pred)\n",
    "\n",
    "new_row = {\n",
    "    'Model Name': 'Baseline_Simple_Logistic_Regression',\n",
    "    'num_non_zero': num_non_zero,\n",
    "    'training_accuracy': training_accuracy,\n",
    "    'testing_accuracy': testing_accuracy,\n",
    "    'ROC_accuracy': roc_auc\n",
    "}\n",
    "\n",
    "row_df = pd.DataFrame([new_row])\n",
    "\n",
    "# Initializes output DataFrame\n",
    "Model_selection_df = pd.DataFrame([new_row], columns = ['Model Name','num_non_zero',\n",
    "                                             'training_accuracy','testing_accuracy','ROC_accuracy'])\n",
    "\n",
    "print(Model_selection_df.to_markdown(index=False))\n"
   ]
  },
  {
   "cell_type": "markdown",
   "metadata": {},
   "source": [
    "## Step Four: Attempting Better Models"
   ]
  },
  {
   "cell_type": "code",
   "execution_count": 17,
   "metadata": {},
   "outputs": [],
   "source": [
    "# Filtering data and columns for future models\n",
    "data['side_binary'] = data['side'].map({'Blue': 0, 'Red': 1})\n",
    "cols = ['gameid','result','goldat25', 'xpat25', 'csat25', 'killsat25','deathsat25', 'opp_goldat25', 'opp_xpat25', 'opp_csat25', 'side_binary' ,'gamelength', 'league']\n",
    "data = data[cols]\n",
    "y = data['result']\n",
    "X = data[['goldat25', 'xpat25', 'csat25', 'killsat25','deathsat25', 'opp_goldat25', 'opp_xpat25', 'opp_csat25', 'side_binary' ,'gamelength', 'league']]\n",
    "X_train, X_test, y_train, y_test = train_test_split(X,y,test_size = 0.3,random_state=103) "
   ]
  },
  {
   "cell_type": "code",
   "execution_count": 18,
   "metadata": {},
   "outputs": [],
   "source": [
    "# Define a data preprocessor\n",
    "numeric_feats = ['goldat25', 'xpat25', 'csat25', 'killsat25','deathsat25', 'opp_goldat25', 'opp_xpat25', 'opp_csat25', 'side_binary' ,'gamelength']\n",
    "categorical_feats = ['league']\n",
    "\n",
    "preprocessor = ColumnTransformer([\n",
    "    ('num', StandardScaler(), numeric_feats),\n",
    "    ('cat', OneHotEncoder(handle_unknown='ignore'), categorical_feats)\n",
    "], remainder='drop') "
   ]
  },
  {
   "cell_type": "code",
   "execution_count": 19,
   "metadata": {
    "scrolled": true
   },
   "outputs": [],
   "source": [
    "# LASSO\n",
    "pipeline = make_pipeline(\n",
    "    preprocessor,\n",
    "    LogisticRegressionCV(\n",
    "        cv=5,\n",
    "        penalty='l1',\n",
    "        solver='liblinear',\n",
    "        random_state=398\n",
    "    )\n",
    ")\n",
    "\n",
    "pipeline.fit(X_train, y_train)\n",
    "\n",
    "ct = pipeline.named_steps['columntransformer']\n",
    "feature_names = ct.get_feature_names_out()\n",
    "\n",
    "y_test_pred = pipeline.predict(X_test)\n",
    "y_test_score = pipeline.decision_function(X_test)\n",
    "testing_accuracy = accuracy_score(y_test, y_test_pred)\n",
    "roc_auc          = roc_auc_score(y_test, y_test_score)\n",
    "\n",
    "log_reg_cv = pipeline.named_steps['logisticregressioncv']\n",
    "\n",
    "coef_series = pd.Series(\n",
    "    log_reg_cv.coef_[0],\n",
    "    index=feature_names\n",
    ")\n",
    "\n",
    "selected_features = coef_series[coef_series != 0].index.tolist()\n",
    "num_non_zero = len(selected_features)\n",
    "\n",
    "y_train_pred = pipeline.predict(X_train)\n",
    "training_accuracy = accuracy_score(y_train, y_train_pred)\n",
    "\n",
    "new_row = {\n",
    "    'Model Name':        'LogisticRegressionCV_L1',\n",
    "    'num_non_zero':      num_non_zero,\n",
    "    'training_accuracy': training_accuracy,\n",
    "    'testing_accuracy':  testing_accuracy,\n",
    "    'ROC_accuracy':      roc_auc\n",
    "}\n",
    "\n",
    "Model_selection_df.loc[len(Model_selection_df)] = new_row"
   ]
  },
  {
   "cell_type": "code",
   "execution_count": 20,
   "metadata": {},
   "outputs": [
    {
     "name": "stdout",
     "output_type": "stream",
     "text": [
      "| Model Name                          |   num_non_zero |   training_accuracy |   testing_accuracy |   ROC_accuracy |\n",
      "|:------------------------------------|---------------:|--------------------:|-------------------:|---------------:|\n",
      "| Baseline_Simple_Logistic_Regression |              5 |            0.809433 |           0.812473 |       0.897624 |\n",
      "| LogisticRegressionCV_L1             |              9 |            0.835888 |           0.8361   |       0.921376 |\n",
      "| Ridge_LogisticRegressionCV          |             57 |            0.835979 |           0.836526 |       0.921788 |\n"
     ]
    }
   ],
   "source": [
    "#Ridge_Logistic_Regression\n",
    "pipeline_ridge = make_pipeline(\n",
    "    preprocessor,  \n",
    "    LogisticRegressionCV(\n",
    "        cv=5,\n",
    "        penalty='l2',\n",
    "        solver='liblinear',\n",
    "        random_state=398\n",
    "    )\n",
    ")\n",
    "\n",
    "pipeline_ridge.fit(X_train, y_train)\n",
    "\n",
    "y_pred_ridge        = pipeline_ridge.predict(X_test)\n",
    "testing_accuracy_ridge  = accuracy_score(y_test, y_pred_ridge)\n",
    "y_train_pred_ridge      = pipeline_ridge.predict(X_train)\n",
    "training_accuracy_ridge = accuracy_score(y_train, y_train_pred_ridge)\n",
    "roc_auc_ridge           = roc_auc_score(\n",
    "    y_test,\n",
    "    pipeline_ridge.decision_function(X_test)\n",
    ")\n",
    "\n",
    "ridge_model      = pipeline_ridge.named_steps['logisticregressioncv']\n",
    "feature_names    = pipeline_ridge.named_steps['columntransformer'] \\\n",
    "                                 .get_feature_names_out()\n",
    "coef_series_ridge = pd.Series(\n",
    "    ridge_model.coef_[0],\n",
    "    index=feature_names\n",
    ")\n",
    "num_non_zero_ridge = (coef_series_ridge != 0).sum()\n",
    "\n",
    "\n",
    "Model_selection_df.loc[len(Model_selection_df)] = {\n",
    "    'Model Name':        'Ridge_LogisticRegressionCV',\n",
    "    'num_non_zero':      num_non_zero_ridge,\n",
    "    'training_accuracy': training_accuracy_ridge,\n",
    "    'testing_accuracy':  testing_accuracy_ridge,\n",
    "    'ROC_accuracy':      roc_auc_ridge\n",
    "}\n",
    "\n",
    "print(Model_selection_df.to_markdown(index=False))"
   ]
  },
  {
   "cell_type": "code",
   "execution_count": 21,
   "metadata": {
    "scrolled": true
   },
   "outputs": [
    {
     "name": "stdout",
     "output_type": "stream",
     "text": [
      "| Model Name                                   |   num_non_zero |   training_accuracy |   testing_accuracy |   ROC_accuracy |\n",
      "|:---------------------------------------------|---------------:|--------------------:|-------------------:|---------------:|\n",
      "| Baseline_Simple_Logistic_Regression          |              5 |            0.809433 |           0.812473 |       0.897624 |\n",
      "| LogisticRegressionCV_L1                      |              9 |            0.835888 |           0.8361   |       0.921376 |\n",
      "| Ridge_LogisticRegressionCV                   |             57 |            0.835979 |           0.836526 |       0.921788 |\n",
      "| LogisticRegression_RFECV_BackwardElimination |              5 |            0.835523 |           0.833972 |       0.920703 |\n"
     ]
    }
   ],
   "source": [
    "# Backwards elimination to find the best function\n",
    "base_model = LogisticRegression(solver='liblinear', penalty='l1', random_state=398)\n",
    "\n",
    "pipeline_rfecv = make_pipeline(\n",
    "    preprocessor,  # ColumnTransformer defined earlier\n",
    "    RFECV(\n",
    "        estimator=base_model,\n",
    "        cv=5,\n",
    "        scoring='roc_auc',\n",
    "        step=1\n",
    "    )\n",
    ")\n",
    "\n",
    "pipeline_rfecv.fit(X_train, y_train)\n",
    "\n",
    "y_pred_rfecv         = pipeline_rfecv.predict(X_test)\n",
    "testing_accuracy_rfecv  = accuracy_score(y_test, y_pred_rfecv)\n",
    "roc_auc_rfecv           = roc_auc_score(y_test, pipeline_rfecv.decision_function(X_test))\n",
    "\n",
    "y_train_pred_rfecv      = pipeline_rfecv.predict(X_train)\n",
    "training_accuracy_rfecv = accuracy_score(y_train, y_train_pred_rfecv)\n",
    "\n",
    "feature_names   = pipeline_rfecv.named_steps['columntransformer'].get_feature_names_out()\n",
    "rfecv_step      = pipeline_rfecv.named_steps['rfecv']\n",
    "support_mask    = rfecv_step.support_\n",
    "selected_features = feature_names[support_mask].tolist()\n",
    "\n",
    "coef_selected = pd.Series(rfecv_step.estimator_.coef_[0], index=selected_features)\n",
    "num_non_zero_rfecv = np.count_nonzero(coef_selected)\n",
    "\n",
    "Model_selection_df.loc[len(Model_selection_df)] = {\n",
    "    'Model Name':        'LogisticRegression_RFECV_BackwardElimination',\n",
    "    'num_non_zero':      num_non_zero_rfecv,\n",
    "    'training_accuracy': training_accuracy_rfecv,\n",
    "    'testing_accuracy':  testing_accuracy_rfecv,\n",
    "    'ROC_accuracy':      roc_auc_rfecv\n",
    "}\n",
    "\n",
    "print(Model_selection_df.to_markdown(index=False))"
   ]
  },
  {
   "cell_type": "markdown",
   "metadata": {},
   "source": [
    "## Conclusion: Based on the above table, we chose the LASSO regression (L1 regularization)"
   ]
  },
  {
   "cell_type": "code",
   "execution_count": null,
   "metadata": {},
   "outputs": [],
   "source": []
  }
 ],
 "metadata": {
  "kernelspec": {
   "display_name": "Python 3 (ipykernel)",
   "language": "python",
   "name": "python3"
  },
  "language_info": {
   "codemirror_mode": {
    "name": "ipython",
    "version": 3
   },
   "file_extension": ".py",
   "mimetype": "text/x-python",
   "name": "python",
   "nbconvert_exporter": "python",
   "pygments_lexer": "ipython3",
   "version": "3.10.16"
  }
 },
 "nbformat": 4,
 "nbformat_minor": 4
}
